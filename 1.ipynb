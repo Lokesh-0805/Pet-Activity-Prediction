{
 "cells": [
  {
   "cell_type": "markdown",
   "metadata": {},
   "source": [
    "I was unable to find relevant data set , so I have decided to make synthetic data set . I think instead of working on irrelevant dataset , it's good to use synthetic dataset"
   ]
  },
  {
   "cell_type": "code",
   "execution_count": 1,
   "metadata": {},
   "outputs": [],
   "source": [
    "import pandas as pd\n",
    "import numpy as np\n"
   ]
  },
  {
   "cell_type": "code",
   "execution_count": 2,
   "metadata": {},
   "outputs": [],
   "source": [
    "# Generating time stamp , 1 min time stamp for 7 data \n",
    "timestamps = pd.date_range(start=\"2023-01-01\", periods=7*24*60, freq=\"min\")\n"
   ]
  },
  {
   "cell_type": "code",
   "execution_count": 3,
   "metadata": {},
   "outputs": [],
   "source": [
    "# step count (low activity)\n",
    "steps = np.random.poisson(lam=1, size=len(timestamps))  # here lam is average steps per minute\n",
    "\n",
    "for hour in [7, 18]:  # 7 AM and 6 PM\n",
    "    start_idx = hour * 60\n",
    "    steps[start_idx : start_idx + 60] += np.random.poisson(lam=10, size=60)  # High activity\n",
    "\n",
    "# Pet is more active in day time and less active at night"
   ]
  },
  {
   "cell_type": "code",
   "execution_count": 4,
   "metadata": {},
   "outputs": [],
   "source": [
    "# Based on the threshold of steps , adding labels on the data\n",
    "activity_type = np.where(\n",
    "    steps == 0, \"resting\",\n",
    "    np.where( steps < 5, \"light_activity\", np.where( steps < 15, \"walking\", \"running\" ) )\n",
    ")"
   ]
  },
  {
   "cell_type": "code",
   "execution_count": 5,
   "metadata": {},
   "outputs": [],
   "source": [
    "# Heart rate have direct correlation on the activity type\n",
    "heart_rate = np.where(\n",
    "    activity_type == \"resting\", np.random.randint(60, 80),\n",
    "    np.where(\n",
    "        activity_type == \"walking\", np.random.randint(80, 100),\n",
    "        np.random.randint(100, 120)  # running\n",
    "    )\n",
    ")"
   ]
  },
  {
   "cell_type": "code",
   "execution_count": 6,
   "metadata": {},
   "outputs": [],
   "source": [
    "df = pd.DataFrame({\n",
    "    \"timestamp\": timestamps,\n",
    "    \"steps\": steps,\n",
    "    \"activity_type\": activity_type,\n",
    "    \"heart_rate\": heart_rate,\n",
    "})"
   ]
  },
  {
   "cell_type": "code",
   "execution_count": 7,
   "metadata": {},
   "outputs": [
    {
     "data": {
      "text/html": [
       "<div>\n",
       "<style scoped>\n",
       "    .dataframe tbody tr th:only-of-type {\n",
       "        vertical-align: middle;\n",
       "    }\n",
       "\n",
       "    .dataframe tbody tr th {\n",
       "        vertical-align: top;\n",
       "    }\n",
       "\n",
       "    .dataframe thead th {\n",
       "        text-align: right;\n",
       "    }\n",
       "</style>\n",
       "<table border=\"1\" class=\"dataframe\">\n",
       "  <thead>\n",
       "    <tr style=\"text-align: right;\">\n",
       "      <th></th>\n",
       "      <th>timestamp</th>\n",
       "      <th>steps</th>\n",
       "      <th>activity_type</th>\n",
       "      <th>heart_rate</th>\n",
       "    </tr>\n",
       "  </thead>\n",
       "  <tbody>\n",
       "    <tr>\n",
       "      <th>0</th>\n",
       "      <td>2023-01-01 00:00:00</td>\n",
       "      <td>1</td>\n",
       "      <td>light_activity</td>\n",
       "      <td>107</td>\n",
       "    </tr>\n",
       "    <tr>\n",
       "      <th>1</th>\n",
       "      <td>2023-01-01 00:01:00</td>\n",
       "      <td>2</td>\n",
       "      <td>light_activity</td>\n",
       "      <td>107</td>\n",
       "    </tr>\n",
       "    <tr>\n",
       "      <th>2</th>\n",
       "      <td>2023-01-01 00:02:00</td>\n",
       "      <td>1</td>\n",
       "      <td>light_activity</td>\n",
       "      <td>107</td>\n",
       "    </tr>\n",
       "    <tr>\n",
       "      <th>3</th>\n",
       "      <td>2023-01-01 00:03:00</td>\n",
       "      <td>1</td>\n",
       "      <td>light_activity</td>\n",
       "      <td>107</td>\n",
       "    </tr>\n",
       "    <tr>\n",
       "      <th>4</th>\n",
       "      <td>2023-01-01 00:04:00</td>\n",
       "      <td>0</td>\n",
       "      <td>resting</td>\n",
       "      <td>75</td>\n",
       "    </tr>\n",
       "  </tbody>\n",
       "</table>\n",
       "</div>"
      ],
      "text/plain": [
       "            timestamp  steps   activity_type  heart_rate\n",
       "0 2023-01-01 00:00:00      1  light_activity         107\n",
       "1 2023-01-01 00:01:00      2  light_activity         107\n",
       "2 2023-01-01 00:02:00      1  light_activity         107\n",
       "3 2023-01-01 00:03:00      1  light_activity         107\n",
       "4 2023-01-01 00:04:00      0         resting          75"
      ]
     },
     "execution_count": 7,
     "metadata": {},
     "output_type": "execute_result"
    }
   ],
   "source": [
    "df.head()"
   ]
  },
  {
   "cell_type": "code",
   "execution_count": 8,
   "metadata": {},
   "outputs": [],
   "source": [
    "#Adding realistic noise to data \n",
    "\n",
    "# Add random spikes to steps (5% probability)\n",
    "spike_prob = 0.05\n",
    "spikes = np.random.choice([0, 1], size=len(df), p=[1-spike_prob, spike_prob])\n",
    "df[\"steps\"] += spikes * np.random.randint(1, 10, size=len(df))\n",
    "\n"
   ]
  },
  {
   "cell_type": "code",
   "execution_count": 9,
   "metadata": {},
   "outputs": [],
   "source": [
    "# Add missing data (2% of rows)\n",
    "missing_mask = np.random.rand(len(df)) < 0.02\n",
    "df.loc[missing_mask, \"steps\"] = np.nan\n",
    "\n",
    "# Add Gaussian noise to heart rate (±5 bpm)\n",
    "hr_noise = np.random.normal(0, 2, len(df))  # Mean=0, Std=2\n",
    "df[\"heart_rate\"] = np.clip(df[\"heart_rate\"] + hr_noise, 60, 120).astype(int)\n",
    "\n"
   ]
  },
  {
   "cell_type": "code",
   "execution_count": 10,
   "metadata": {},
   "outputs": [],
   "source": [
    "# Save to CSV\n",
    "df.to_csv(\"synthetic_pet_activity_with_noise.csv\", index=False)"
   ]
  },
  {
   "cell_type": "code",
   "execution_count": null,
   "metadata": {},
   "outputs": [],
   "source": []
  },
  {
   "cell_type": "code",
   "execution_count": null,
   "metadata": {},
   "outputs": [],
   "source": []
  },
  {
   "cell_type": "code",
   "execution_count": null,
   "metadata": {},
   "outputs": [],
   "source": []
  },
  {
   "cell_type": "code",
   "execution_count": null,
   "metadata": {},
   "outputs": [],
   "source": []
  },
  {
   "cell_type": "code",
   "execution_count": null,
   "metadata": {},
   "outputs": [],
   "source": []
  },
  {
   "cell_type": "code",
   "execution_count": null,
   "metadata": {},
   "outputs": [],
   "source": []
  },
  {
   "cell_type": "code",
   "execution_count": null,
   "metadata": {},
   "outputs": [],
   "source": []
  }
 ],
 "metadata": {
  "kernelspec": {
   "display_name": "newenv",
   "language": "python",
   "name": "python3"
  },
  "language_info": {
   "codemirror_mode": {
    "name": "ipython",
    "version": 3
   },
   "file_extension": ".py",
   "mimetype": "text/x-python",
   "name": "python",
   "nbconvert_exporter": "python",
   "pygments_lexer": "ipython3",
   "version": "3.12.2"
  }
 },
 "nbformat": 4,
 "nbformat_minor": 2
}
