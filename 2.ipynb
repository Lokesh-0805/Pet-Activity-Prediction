{
 "cells": [
  {
   "cell_type": "markdown",
   "metadata": {},
   "source": [
    "So synthetic data has been made by me . So our first step is to identify noise in the dataset and applying techniques to remove that noise . Here I am also going to explain you each step in detail by maintaining the sequence \n"
   ]
  },
  {
   "cell_type": "markdown",
   "metadata": {},
   "source": [
    "Step 1 : Identifying noise in the Data\n",
    "\n",
    "1. Random Spiked - Sudden , unrealistic step count . Eg:pet shakes the device . \n",
    "2. Missing Data - Gaps may be due to transmission error ,etc\n",
    "3. Sensor Drift - Gradual over/under-counting of steps.\n",
    "4. Heart Rate - Unrealistic heart rate counting .\n",
    "5. Activity Mislabeling - Incorrect activity type . For eg:\"running\" when pet is resting \n"
   ]
  },
  {
   "cell_type": "code",
   "execution_count": 1,
   "metadata": {},
   "outputs": [],
   "source": [
    "import pandas as pd\n",
    "import numpy as np\n",
    "import matplotlib.pyplot as plt"
   ]
  },
  {
   "cell_type": "code",
   "execution_count": 2,
   "metadata": {},
   "outputs": [
    {
     "data": {
      "text/html": [
       "<div>\n",
       "<style scoped>\n",
       "    .dataframe tbody tr th:only-of-type {\n",
       "        vertical-align: middle;\n",
       "    }\n",
       "\n",
       "    .dataframe tbody tr th {\n",
       "        vertical-align: top;\n",
       "    }\n",
       "\n",
       "    .dataframe thead th {\n",
       "        text-align: right;\n",
       "    }\n",
       "</style>\n",
       "<table border=\"1\" class=\"dataframe\">\n",
       "  <thead>\n",
       "    <tr style=\"text-align: right;\">\n",
       "      <th></th>\n",
       "      <th>timestamp</th>\n",
       "      <th>steps</th>\n",
       "      <th>activity_type</th>\n",
       "      <th>heart_rate</th>\n",
       "    </tr>\n",
       "  </thead>\n",
       "  <tbody>\n",
       "    <tr>\n",
       "      <th>0</th>\n",
       "      <td>2023-01-01 00:00:00</td>\n",
       "      <td>1.0</td>\n",
       "      <td>light_activity</td>\n",
       "      <td>105</td>\n",
       "    </tr>\n",
       "    <tr>\n",
       "      <th>1</th>\n",
       "      <td>2023-01-01 00:01:00</td>\n",
       "      <td>2.0</td>\n",
       "      <td>light_activity</td>\n",
       "      <td>110</td>\n",
       "    </tr>\n",
       "    <tr>\n",
       "      <th>2</th>\n",
       "      <td>2023-01-01 00:02:00</td>\n",
       "      <td>1.0</td>\n",
       "      <td>light_activity</td>\n",
       "      <td>103</td>\n",
       "    </tr>\n",
       "    <tr>\n",
       "      <th>3</th>\n",
       "      <td>2023-01-01 00:03:00</td>\n",
       "      <td>1.0</td>\n",
       "      <td>light_activity</td>\n",
       "      <td>108</td>\n",
       "    </tr>\n",
       "    <tr>\n",
       "      <th>4</th>\n",
       "      <td>2023-01-01 00:04:00</td>\n",
       "      <td>0.0</td>\n",
       "      <td>resting</td>\n",
       "      <td>75</td>\n",
       "    </tr>\n",
       "  </tbody>\n",
       "</table>\n",
       "</div>"
      ],
      "text/plain": [
       "             timestamp  steps   activity_type  heart_rate\n",
       "0  2023-01-01 00:00:00    1.0  light_activity         105\n",
       "1  2023-01-01 00:01:00    2.0  light_activity         110\n",
       "2  2023-01-01 00:02:00    1.0  light_activity         103\n",
       "3  2023-01-01 00:03:00    1.0  light_activity         108\n",
       "4  2023-01-01 00:04:00    0.0         resting          75"
      ]
     },
     "execution_count": 2,
     "metadata": {},
     "output_type": "execute_result"
    }
   ],
   "source": [
    "df = pd.read_csv('synthetic_pet_activity_with_noise.csv')\n",
    "df.head()"
   ]
  },
  {
   "cell_type": "code",
   "execution_count": 3,
   "metadata": {},
   "outputs": [
    {
     "data": {
      "text/plain": [
       "timestamp          0\n",
       "steps            207\n",
       "activity_type      0\n",
       "heart_rate         0\n",
       "dtype: int64"
      ]
     },
     "execution_count": 3,
     "metadata": {},
     "output_type": "execute_result"
    }
   ],
   "source": [
    "df.isnull().sum()"
   ]
  },
  {
   "cell_type": "code",
   "execution_count": 4,
   "metadata": {},
   "outputs": [
    {
     "data": {
      "text/plain": [
       "(10080, 4)"
      ]
     },
     "execution_count": 4,
     "metadata": {},
     "output_type": "execute_result"
    }
   ],
   "source": [
    "df.shape"
   ]
  },
  {
   "cell_type": "markdown",
   "metadata": {},
   "source": [
    "Handling Missing Data \n",
    "So there can be many solutions for this , below are mentioned two of them :\n",
    "1. Simply drop the rows , but in this we have to take care that the rows to be droped are less than 5% of the dataset rows.\n",
    "2. In this we can use above , but forward fill will be more better taking care that pet's activity did not change abruptly "
   ]
  },
  {
   "cell_type": "code",
   "execution_count": 5,
   "metadata": {},
   "outputs": [
    {
     "name": "stderr",
     "output_type": "stream",
     "text": [
      "/var/folders/v8/7sm4tkys03j44j2vkrx2myy00000gn/T/ipykernel_2090/1511352358.py:2: FutureWarning: Series.fillna with 'method' is deprecated and will raise in a future version. Use obj.ffill() or obj.bfill() instead.\n",
      "  df[\"steps\"] = df[\"steps\"].fillna(method=\"ffill\")\n"
     ]
    }
   ],
   "source": [
    "# Forward-fill missing steps \n",
    "df[\"steps\"] = df[\"steps\"].fillna(method=\"ffill\")"
   ]
  },
  {
   "cell_type": "code",
   "execution_count": 6,
   "metadata": {},
   "outputs": [
    {
     "data": {
      "text/plain": [
       "timestamp        0\n",
       "steps            0\n",
       "activity_type    0\n",
       "heart_rate       0\n",
       "dtype: int64"
      ]
     },
     "execution_count": 6,
     "metadata": {},
     "output_type": "execute_result"
    }
   ],
   "source": [
    "df.isnull().sum()"
   ]
  },
  {
   "cell_type": "code",
   "execution_count": 7,
   "metadata": {},
   "outputs": [],
   "source": [
    "df = df.dropna()\n",
    "#Just applied I know it is of no use"
   ]
  },
  {
   "cell_type": "markdown",
   "metadata": {},
   "source": [
    "2. Smoothing Random Spikes\n",
    "\n",
    "Problem: Sudden, unrealistic step counts.\n",
    "\n",
    "Solution: Use a rolling median  or low-pass filter."
   ]
  },
  {
   "cell_type": "code",
   "execution_count": 8,
   "metadata": {},
   "outputs": [],
   "source": [
    "# Apply rolling median (window=5 minutes)\n",
    "df[\"steps_cleaned\"] = df[\"steps\"].rolling(window=5, center=True).median()\n",
    "\n",
    "# Fill edge NaN values (due to rolling window)\n",
    "df[\"steps_cleaned\"] = df[\"steps_cleaned\"].fillna(df[\"steps\"])"
   ]
  },
  {
   "cell_type": "code",
   "execution_count": null,
   "metadata": {},
   "outputs": [],
   "source": []
  },
  {
   "cell_type": "code",
   "execution_count": 9,
   "metadata": {},
   "outputs": [
    {
     "data": {
      "image/png": "[encoded data removed]",
      "text/plain": [
       "<Figure size 640x480 with 1 Axes>"
      ]
     },
     "metadata": {},
     "output_type": "display_data"
    }
   ],
   "source": [
    "# Visualizing the data\n",
    "\n",
    "import matplotlib.pyplot as plt\n",
    "plt.plot(df[\"timestamp\"], df[\"steps\"], label=\"Raw\", alpha=0.5)\n",
    "plt.plot(df[\"timestamp\"], df[\"steps_cleaned\"], label=\"Cleaned\", color=\"red\")\n",
    "plt.legend()\n",
    "plt.show()"
   ]
  },
  {
   "cell_type": "markdown",
   "metadata": {},
   "source": [
    "3. Correcting Sensor Drift\n",
    "\n",
    "Problem: Step counts gradually increase/decrease over time.\n",
    "\n",
    "\n",
    "Solution:\n",
    "\n",
    "Detrending: Subtract a rolling average to remove drift.\n",
    "\n",
    "Reset baseline: Assume the pet’s true resting step count is 0.\n"
   ]
  },
  {
   "cell_type": "code",
   "execution_count": 10,
   "metadata": {},
   "outputs": [],
   "source": [
    "# Calculate rolling mean (window=1 day to capture drift)\n",
    "drift = df[\"steps\"].rolling(window=24*60).mean()\n",
    "\n",
    "# Subtract drift and clip negative values to 0\n",
    "df[\"steps_detrended\"] = (df[\"steps\"] - drift).clip(lower=0)"
   ]
  },
  {
   "cell_type": "markdown",
   "metadata": {},
   "source": [
    "4. Fixing Heart Rate Artifacts\n",
    "\n",
    "Problem: Impossible heart rates (e.g., 200 bpm at rest).\n",
    "\n",
    "Solution:\n",
    "\n",
    "Clip values to physiological ranges (60–120 bpm for pets).\n",
    "Smooth with a rolling average."
   ]
  },
  {
   "cell_type": "code",
   "execution_count": 11,
   "metadata": {},
   "outputs": [],
   "source": [
    "# Clip unrealistic values\n",
    "df[\"heart_rate\"] = df[\"heart_rate\"].clip(60, 120)\n",
    "\n",
    "# Smooth with rolling mean\n",
    "df[\"heart_rate_cleaned\"] = df[\"heart_rate\"].rolling(window=5).mean()"
   ]
  },
  {
   "cell_type": "markdown",
   "metadata": {},
   "source": [
    "5. Correcting Activity Mislabeling\n",
    "\n",
    "Problem: activity_type conflicts with steps .\n",
    "\n",
    "Solution:Re-label activities based on step thresholds"
   ]
  },
  {
   "cell_type": "code",
   "execution_count": 12,
   "metadata": {},
   "outputs": [],
   "source": [
    "# Re-label activities\n",
    "df[\"activity_type_cleaned\"] = np.where(\n",
    "    df[\"steps\"] == 0, \"resting\",\n",
    "    np.where(df[\"steps\"] <= 5, \"light_activity\", \"active\")\n",
    ")"
   ]
  },
  {
   "cell_type": "markdown",
   "metadata": {},
   "source": [
    "Step 3: Final Preprocessing\n",
    "\n",
    "After cleaning, ensure the data is normalized and ready for ML:"
   ]
  },
  {
   "cell_type": "code",
   "execution_count": 13,
   "metadata": {},
   "outputs": [],
   "source": [
    "# Normalize step count\n",
    "# Min-max scaling (optional)\n",
    "# Min-max scaling (optional)\n",
    "df[\"steps_normalized\"] = (df[\"steps_cleaned\"] - df[\"steps_cleaned\"].min()) / (df[\"steps_cleaned\"].max() - df[\"steps_cleaned\"].min())\n"
   ]
  },
  {
   "cell_type": "markdown",
   "metadata": {},
   "source": [
    "2. Feature Engineering\n",
    "\n",
    "Extract time-based features to help the model:"
   ]
  },
  {
   "cell_type": "code",
   "execution_count": 14,
   "metadata": {},
   "outputs": [],
   "source": [
    "df[\"timestamp\"] = pd.to_datetime(df[\"timestamp\"])  # Convert to datetime\n",
    "df[\"hour\"] = df[\"timestamp\"].dt.hour  # Extract hour\n",
    "df[\"day_of_week\"] = df[\"timestamp\"].dt.dayofweek  # Extract day of the week\n"
   ]
  },
  {
   "cell_type": "markdown",
   "metadata": {},
   "source": [
    "Step 4: Validate Cleaned Data\n",
    "\n",
    "Check distributions and correlations:"
   ]
  },
  {
   "cell_type": "code",
   "execution_count": 15,
   "metadata": {},
   "outputs": [
    {
     "data": {
      "image/png": "[encoded data removed]",
      "text/plain": [
       "<Figure size 1200x400 with 2 Axes>"
      ]
     },
     "metadata": {},
     "output_type": "display_data"
    },
    {
     "name": "stdout",
     "output_type": "stream",
     "text": [
      "activity_type_cleaned\n",
      "light_activity    6216\n",
      "resting           3471\n",
      "active             393\n",
      "Name: count, dtype: int64\n"
     ]
    }
   ],
   "source": [
    "# Plot cleaned steps vs. raw steps\n",
    "plt.figure(figsize=(12, 4))\n",
    "plt.subplot(1, 2, 1)\n",
    "plt.hist(df[\"steps\"], bins=50, label=\"Raw\")\n",
    "plt.subplot(1, 2, 2)\n",
    "plt.hist(df[\"steps_cleaned\"], bins=50, label=\"Cleaned\", color=\"red\")\n",
    "plt.show()\n",
    "\n",
    "# Check activity labels\n",
    "print(df[\"activity_type_cleaned\"].value_counts())"
   ]
  },
  {
   "cell_type": "code",
   "execution_count": 16,
   "metadata": {},
   "outputs": [
    {
     "data": {
      "text/html": [
       "<div>\n",
       "<style scoped>\n",
       "    .dataframe tbody tr th:only-of-type {\n",
       "        vertical-align: middle;\n",
       "    }\n",
       "\n",
       "    .dataframe tbody tr th {\n",
       "        vertical-align: top;\n",
       "    }\n",
       "\n",
       "    .dataframe thead th {\n",
       "        text-align: right;\n",
       "    }\n",
       "</style>\n",
       "<table border=\"1\" class=\"dataframe\">\n",
       "  <thead>\n",
       "    <tr style=\"text-align: right;\">\n",
       "      <th></th>\n",
       "      <th>timestamp</th>\n",
       "      <th>steps</th>\n",
       "      <th>activity_type</th>\n",
       "      <th>heart_rate</th>\n",
       "      <th>steps_cleaned</th>\n",
       "      <th>steps_detrended</th>\n",
       "      <th>heart_rate_cleaned</th>\n",
       "      <th>activity_type_cleaned</th>\n",
       "      <th>steps_normalized</th>\n",
       "      <th>hour</th>\n",
       "      <th>day_of_week</th>\n",
       "    </tr>\n",
       "  </thead>\n",
       "  <tbody>\n",
       "    <tr>\n",
       "      <th>0</th>\n",
       "      <td>2023-01-01 00:00:00</td>\n",
       "      <td>1.0</td>\n",
       "      <td>light_activity</td>\n",
       "      <td>105</td>\n",
       "      <td>1.0</td>\n",
       "      <td>NaN</td>\n",
       "      <td>NaN</td>\n",
       "      <td>light_activity</td>\n",
       "      <td>0.058824</td>\n",
       "      <td>0</td>\n",
       "      <td>6</td>\n",
       "    </tr>\n",
       "    <tr>\n",
       "      <th>1</th>\n",
       "      <td>2023-01-01 00:01:00</td>\n",
       "      <td>2.0</td>\n",
       "      <td>light_activity</td>\n",
       "      <td>110</td>\n",
       "      <td>2.0</td>\n",
       "      <td>NaN</td>\n",
       "      <td>NaN</td>\n",
       "      <td>light_activity</td>\n",
       "      <td>0.117647</td>\n",
       "      <td>0</td>\n",
       "      <td>6</td>\n",
       "    </tr>\n",
       "    <tr>\n",
       "      <th>2</th>\n",
       "      <td>2023-01-01 00:02:00</td>\n",
       "      <td>1.0</td>\n",
       "      <td>light_activity</td>\n",
       "      <td>103</td>\n",
       "      <td>1.0</td>\n",
       "      <td>NaN</td>\n",
       "      <td>NaN</td>\n",
       "      <td>light_activity</td>\n",
       "      <td>0.058824</td>\n",
       "      <td>0</td>\n",
       "      <td>6</td>\n",
       "    </tr>\n",
       "    <tr>\n",
       "      <th>3</th>\n",
       "      <td>2023-01-01 00:03:00</td>\n",
       "      <td>1.0</td>\n",
       "      <td>light_activity</td>\n",
       "      <td>108</td>\n",
       "      <td>1.0</td>\n",
       "      <td>NaN</td>\n",
       "      <td>NaN</td>\n",
       "      <td>light_activity</td>\n",
       "      <td>0.058824</td>\n",
       "      <td>0</td>\n",
       "      <td>6</td>\n",
       "    </tr>\n",
       "    <tr>\n",
       "      <th>4</th>\n",
       "      <td>2023-01-01 00:04:00</td>\n",
       "      <td>0.0</td>\n",
       "      <td>resting</td>\n",
       "      <td>75</td>\n",
       "      <td>1.0</td>\n",
       "      <td>NaN</td>\n",
       "      <td>100.2</td>\n",
       "      <td>resting</td>\n",
       "      <td>0.058824</td>\n",
       "      <td>0</td>\n",
       "      <td>6</td>\n",
       "    </tr>\n",
       "  </tbody>\n",
       "</table>\n",
       "</div>"
      ],
      "text/plain": [
       "            timestamp  steps   activity_type  heart_rate  steps_cleaned  \\\n",
       "0 2023-01-01 00:00:00    1.0  light_activity         105            1.0   \n",
       "1 2023-01-01 00:01:00    2.0  light_activity         110            2.0   \n",
       "2 2023-01-01 00:02:00    1.0  light_activity         103            1.0   \n",
       "3 2023-01-01 00:03:00    1.0  light_activity         108            1.0   \n",
       "4 2023-01-01 00:04:00    0.0         resting          75            1.0   \n",
       "\n",
       "   steps_detrended  heart_rate_cleaned activity_type_cleaned  \\\n",
       "0              NaN                 NaN        light_activity   \n",
       "1              NaN                 NaN        light_activity   \n",
       "2              NaN                 NaN        light_activity   \n",
       "3              NaN                 NaN        light_activity   \n",
       "4              NaN               100.2               resting   \n",
       "\n",
       "   steps_normalized  hour  day_of_week  \n",
       "0          0.058824     0            6  \n",
       "1          0.117647     0            6  \n",
       "2          0.058824     0            6  \n",
       "3          0.058824     0            6  \n",
       "4          0.058824     0            6  "
      ]
     },
     "execution_count": 16,
     "metadata": {},
     "output_type": "execute_result"
    }
   ],
   "source": [
    "df.head()"
   ]
  },
  {
   "cell_type": "code",
   "execution_count": 17,
   "metadata": {},
   "outputs": [
    {
     "data": {
      "text/plain": [
       "Index(['timestamp', 'steps', 'activity_type', 'heart_rate', 'steps_cleaned',\n",
       "       'steps_detrended', 'heart_rate_cleaned', 'activity_type_cleaned',\n",
       "       'steps_normalized', 'hour', 'day_of_week'],\n",
       "      dtype='object')"
      ]
     },
     "execution_count": 17,
     "metadata": {},
     "output_type": "execute_result"
    }
   ],
   "source": [
    "df.columns"
   ]
  },
  {
   "cell_type": "code",
   "execution_count": 18,
   "metadata": {},
   "outputs": [],
   "source": [
    "#So now I only have to keep relevant columns , rest of the columns I will drop \n",
    "\n",
    "final_columns = [\n",
    "    \"timestamp\",\n",
    "    \"steps_cleaned\",\n",
    "    \"heart_rate_cleaned\",\n",
    "    \"hour\",\n",
    "    \"day_of_week\",\n",
    "    \"activity_type_cleaned\"\n",
    "]\n",
    "df_cleaned = df[final_columns].copy()\n"
   ]
  },
  {
   "cell_type": "code",
   "execution_count": 19,
   "metadata": {},
   "outputs": [
    {
     "name": "stdout",
     "output_type": "stream",
     "text": [
      "                    steps_cleaned  heart_rate_cleaned\n",
      "steps_cleaned            1.000000            0.217259\n",
      "heart_rate_cleaned       0.217259            1.000000\n"
     ]
    }
   ],
   "source": [
    "print(df_cleaned[[\"steps_cleaned\", \"heart_rate_cleaned\"]].corr())"
   ]
  },
  {
   "cell_type": "code",
   "execution_count": 20,
   "metadata": {},
   "outputs": [
    {
     "data": {
      "text/html": [
       "<div>\n",
       "<style scoped>\n",
       "    .dataframe tbody tr th:only-of-type {\n",
       "        vertical-align: middle;\n",
       "    }\n",
       "\n",
       "    .dataframe tbody tr th {\n",
       "        vertical-align: top;\n",
       "    }\n",
       "\n",
       "    .dataframe thead th {\n",
       "        text-align: right;\n",
       "    }\n",
       "</style>\n",
       "<table border=\"1\" class=\"dataframe\">\n",
       "  <thead>\n",
       "    <tr style=\"text-align: right;\">\n",
       "      <th></th>\n",
       "      <th>timestamp</th>\n",
       "      <th>steps_cleaned</th>\n",
       "      <th>heart_rate_cleaned</th>\n",
       "      <th>hour</th>\n",
       "      <th>day_of_week</th>\n",
       "      <th>activity_type_cleaned</th>\n",
       "    </tr>\n",
       "  </thead>\n",
       "  <tbody>\n",
       "    <tr>\n",
       "      <th>4058</th>\n",
       "      <td>2023-01-03 19:38:00</td>\n",
       "      <td>1.0</td>\n",
       "      <td>101.2</td>\n",
       "      <td>19</td>\n",
       "      <td>1</td>\n",
       "      <td>light_activity</td>\n",
       "    </tr>\n",
       "  </tbody>\n",
       "</table>\n",
       "</div>"
      ],
      "text/plain": [
       "               timestamp  steps_cleaned  heart_rate_cleaned  hour  \\\n",
       "4058 2023-01-03 19:38:00            1.0               101.2    19   \n",
       "\n",
       "      day_of_week activity_type_cleaned  \n",
       "4058            1        light_activity  "
      ]
     },
     "execution_count": 20,
     "metadata": {},
     "output_type": "execute_result"
    }
   ],
   "source": [
    "df_cleaned.sample()"
   ]
  },
  {
   "cell_type": "code",
   "execution_count": 21,
   "metadata": {},
   "outputs": [
    {
     "data": {
      "text/plain": [
       "activity_type_cleaned\n",
       "light_activity    6216\n",
       "resting           3471\n",
       "active             393\n",
       "Name: count, dtype: int64"
      ]
     },
     "execution_count": 21,
     "metadata": {},
     "output_type": "execute_result"
    }
   ],
   "source": [
    "df_cleaned['activity_type_cleaned'].value_counts()"
   ]
  },
  {
   "cell_type": "code",
   "execution_count": 22,
   "metadata": {},
   "outputs": [],
   "source": [
    "from sklearn.preprocessing import LabelEncoder\n",
    "le = LabelEncoder()\n",
    "df_cleaned[\"activity_label\"] = le.fit_transform(df_cleaned[\"activity_type_cleaned\"])"
   ]
  },
  {
   "cell_type": "code",
   "execution_count": 24,
   "metadata": {},
   "outputs": [
    {
     "data": {
      "text/html": [
       "<div>\n",
       "<style scoped>\n",
       "    .dataframe tbody tr th:only-of-type {\n",
       "        vertical-align: middle;\n",
       "    }\n",
       "\n",
       "    .dataframe tbody tr th {\n",
       "        vertical-align: top;\n",
       "    }\n",
       "\n",
       "    .dataframe thead th {\n",
       "        text-align: right;\n",
       "    }\n",
       "</style>\n",
       "<table border=\"1\" class=\"dataframe\">\n",
       "  <thead>\n",
       "    <tr style=\"text-align: right;\">\n",
       "      <th></th>\n",
       "      <th>timestamp</th>\n",
       "      <th>steps_cleaned</th>\n",
       "      <th>heart_rate_cleaned</th>\n",
       "      <th>hour</th>\n",
       "      <th>day_of_week</th>\n",
       "      <th>activity_type_cleaned</th>\n",
       "      <th>activity_label</th>\n",
       "    </tr>\n",
       "  </thead>\n",
       "  <tbody>\n",
       "    <tr>\n",
       "      <th>1343</th>\n",
       "      <td>2023-01-01 22:23:00</td>\n",
       "      <td>0.0</td>\n",
       "      <td>79.6</td>\n",
       "      <td>22</td>\n",
       "      <td>6</td>\n",
       "      <td>light_activity</td>\n",
       "      <td>1</td>\n",
       "    </tr>\n",
       "    <tr>\n",
       "      <th>7736</th>\n",
       "      <td>2023-01-06 08:56:00</td>\n",
       "      <td>0.0</td>\n",
       "      <td>82.2</td>\n",
       "      <td>8</td>\n",
       "      <td>4</td>\n",
       "      <td>light_activity</td>\n",
       "      <td>1</td>\n",
       "    </tr>\n",
       "    <tr>\n",
       "      <th>8017</th>\n",
       "      <td>2023-01-06 13:37:00</td>\n",
       "      <td>1.0</td>\n",
       "      <td>92.0</td>\n",
       "      <td>13</td>\n",
       "      <td>4</td>\n",
       "      <td>light_activity</td>\n",
       "      <td>1</td>\n",
       "    </tr>\n",
       "    <tr>\n",
       "      <th>7046</th>\n",
       "      <td>2023-01-05 21:26:00</td>\n",
       "      <td>2.0</td>\n",
       "      <td>97.6</td>\n",
       "      <td>21</td>\n",
       "      <td>3</td>\n",
       "      <td>active</td>\n",
       "      <td>0</td>\n",
       "    </tr>\n",
       "    <tr>\n",
       "      <th>1452</th>\n",
       "      <td>2023-01-02 00:12:00</td>\n",
       "      <td>1.0</td>\n",
       "      <td>108.4</td>\n",
       "      <td>0</td>\n",
       "      <td>0</td>\n",
       "      <td>light_activity</td>\n",
       "      <td>1</td>\n",
       "    </tr>\n",
       "    <tr>\n",
       "      <th>4356</th>\n",
       "      <td>2023-01-04 00:36:00</td>\n",
       "      <td>1.0</td>\n",
       "      <td>93.2</td>\n",
       "      <td>0</td>\n",
       "      <td>2</td>\n",
       "      <td>light_activity</td>\n",
       "      <td>1</td>\n",
       "    </tr>\n",
       "    <tr>\n",
       "      <th>327</th>\n",
       "      <td>2023-01-01 05:27:00</td>\n",
       "      <td>1.0</td>\n",
       "      <td>88.6</td>\n",
       "      <td>5</td>\n",
       "      <td>6</td>\n",
       "      <td>light_activity</td>\n",
       "      <td>1</td>\n",
       "    </tr>\n",
       "    <tr>\n",
       "      <th>4387</th>\n",
       "      <td>2023-01-04 01:07:00</td>\n",
       "      <td>0.0</td>\n",
       "      <td>80.4</td>\n",
       "      <td>1</td>\n",
       "      <td>2</td>\n",
       "      <td>resting</td>\n",
       "      <td>2</td>\n",
       "    </tr>\n",
       "    <tr>\n",
       "      <th>3798</th>\n",
       "      <td>2023-01-03 15:18:00</td>\n",
       "      <td>0.0</td>\n",
       "      <td>88.2</td>\n",
       "      <td>15</td>\n",
       "      <td>1</td>\n",
       "      <td>light_activity</td>\n",
       "      <td>1</td>\n",
       "    </tr>\n",
       "  </tbody>\n",
       "</table>\n",
       "</div>"
      ],
      "text/plain": [
       "               timestamp  steps_cleaned  heart_rate_cleaned  hour  \\\n",
       "1343 2023-01-01 22:23:00            0.0                79.6    22   \n",
       "7736 2023-01-06 08:56:00            0.0                82.2     8   \n",
       "8017 2023-01-06 13:37:00            1.0                92.0    13   \n",
       "7046 2023-01-05 21:26:00            2.0                97.6    21   \n",
       "1452 2023-01-02 00:12:00            1.0               108.4     0   \n",
       "4356 2023-01-04 00:36:00            1.0                93.2     0   \n",
       "327  2023-01-01 05:27:00            1.0                88.6     5   \n",
       "4387 2023-01-04 01:07:00            0.0                80.4     1   \n",
       "3798 2023-01-03 15:18:00            0.0                88.2    15   \n",
       "\n",
       "      day_of_week activity_type_cleaned  activity_label  \n",
       "1343            6        light_activity               1  \n",
       "7736            4        light_activity               1  \n",
       "8017            4        light_activity               1  \n",
       "7046            3                active               0  \n",
       "1452            0        light_activity               1  \n",
       "4356            2        light_activity               1  \n",
       "327             6        light_activity               1  \n",
       "4387            2               resting               2  \n",
       "3798            1        light_activity               1  "
      ]
     },
     "execution_count": 24,
     "metadata": {},
     "output_type": "execute_result"
    }
   ],
   "source": [
    "df_cleaned.sample(9)"
   ]
  },
  {
   "cell_type": "code",
   "execution_count": 25,
   "metadata": {},
   "outputs": [],
   "source": [
    "import pickle\n",
    "with open(\"label.pkl\",\"wb\") as file:\n",
    "    pickle.dump(le,file) "
   ]
  },
  {
   "cell_type": "code",
   "execution_count": 26,
   "metadata": {},
   "outputs": [
    {
     "data": {
      "text/plain": [
       "timestamp                0\n",
       "steps_cleaned            0\n",
       "heart_rate_cleaned       4\n",
       "hour                     0\n",
       "day_of_week              0\n",
       "activity_type_cleaned    0\n",
       "activity_label           0\n",
       "dtype: int64"
      ]
     },
     "execution_count": 26,
     "metadata": {},
     "output_type": "execute_result"
    }
   ],
   "source": [
    "df_cleaned.isnull().sum()"
   ]
  },
  {
   "cell_type": "code",
   "execution_count": 29,
   "metadata": {},
   "outputs": [
    {
     "name": "stderr",
     "output_type": "stream",
     "text": [
      "/var/folders/v8/7sm4tkys03j44j2vkrx2myy00000gn/T/ipykernel_2090/1449788797.py:1: FutureWarning: Series.fillna with 'method' is deprecated and will raise in a future version. Use obj.ffill() or obj.bfill() instead.\n",
      "  df_cleaned['heart_rate_cleaned'] = df['heart_rate_cleaned'].fillna(method = \"bfill\")\n"
     ]
    }
   ],
   "source": [
    "df_cleaned['heart_rate_cleaned'] = df['heart_rate_cleaned'].fillna(method = \"bfill\")"
   ]
  },
  {
   "cell_type": "code",
   "execution_count": 30,
   "metadata": {},
   "outputs": [
    {
     "data": {
      "text/plain": [
       "timestamp                0\n",
       "steps_cleaned            0\n",
       "heart_rate_cleaned       0\n",
       "hour                     0\n",
       "day_of_week              0\n",
       "activity_type_cleaned    0\n",
       "activity_label           0\n",
       "dtype: int64"
      ]
     },
     "execution_count": 30,
     "metadata": {},
     "output_type": "execute_result"
    }
   ],
   "source": [
    "df_cleaned.isnull().sum()"
   ]
  },
  {
   "cell_type": "code",
   "execution_count": 31,
   "metadata": {},
   "outputs": [],
   "source": [
    "df_cleaned.to_csv(\"cleaned_pet_activity_data.csv\", index=False)"
   ]
  },
  {
   "cell_type": "code",
   "execution_count": null,
   "metadata": {},
   "outputs": [],
   "source": []
  }
 ],
 "metadata": {
  "kernelspec": {
   "display_name": "newenv",
   "language": "python",
   "name": "python3"
  },
  "language_info": {
   "codemirror_mode": {
    "name": "ipython",
    "version": 3
   },
   "file_extension": ".py",
   "mimetype": "text/x-python",
   "name": "python",
   "nbconvert_exporter": "python",
   "pygments_lexer": "ipython3",
   "version": "3.12.2"
  }
 },
 "nbformat": 4,
 "nbformat_minor": 2
}
