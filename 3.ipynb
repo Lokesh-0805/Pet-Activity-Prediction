{
 "cells": [
  {
   "cell_type": "code",
   "execution_count": 27,
   "metadata": {},
   "outputs": [],
   "source": [
    "import pandas as pd\n",
    "from sklearn.model_selection import train_test_split"
   ]
  },
  {
   "cell_type": "code",
   "execution_count": 28,
   "metadata": {},
   "outputs": [
    {
     "data": {
      "text/html": [
       "<div>\n",
       "<style scoped>\n",
       "    .dataframe tbody tr th:only-of-type {\n",
       "        vertical-align: middle;\n",
       "    }\n",
       "\n",
       "    .dataframe tbody tr th {\n",
       "        vertical-align: top;\n",
       "    }\n",
       "\n",
       "    .dataframe thead th {\n",
       "        text-align: right;\n",
       "    }\n",
       "</style>\n",
       "<table border=\"1\" class=\"dataframe\">\n",
       "  <thead>\n",
       "    <tr style=\"text-align: right;\">\n",
       "      <th></th>\n",
       "      <th>timestamp</th>\n",
       "      <th>steps_cleaned</th>\n",
       "      <th>heart_rate_cleaned</th>\n",
       "      <th>hour</th>\n",
       "      <th>day_of_week</th>\n",
       "      <th>activity_type_cleaned</th>\n",
       "      <th>activity_label</th>\n",
       "    </tr>\n",
       "  </thead>\n",
       "  <tbody>\n",
       "    <tr>\n",
       "      <th>0</th>\n",
       "      <td>2023-01-01 00:00:00</td>\n",
       "      <td>1.0</td>\n",
       "      <td>100.2</td>\n",
       "      <td>0</td>\n",
       "      <td>6</td>\n",
       "      <td>light_activity</td>\n",
       "      <td>1</td>\n",
       "    </tr>\n",
       "    <tr>\n",
       "      <th>1</th>\n",
       "      <td>2023-01-01 00:01:00</td>\n",
       "      <td>2.0</td>\n",
       "      <td>100.2</td>\n",
       "      <td>0</td>\n",
       "      <td>6</td>\n",
       "      <td>light_activity</td>\n",
       "      <td>1</td>\n",
       "    </tr>\n",
       "    <tr>\n",
       "      <th>2</th>\n",
       "      <td>2023-01-01 00:02:00</td>\n",
       "      <td>1.0</td>\n",
       "      <td>100.2</td>\n",
       "      <td>0</td>\n",
       "      <td>6</td>\n",
       "      <td>light_activity</td>\n",
       "      <td>1</td>\n",
       "    </tr>\n",
       "    <tr>\n",
       "      <th>3</th>\n",
       "      <td>2023-01-01 00:03:00</td>\n",
       "      <td>1.0</td>\n",
       "      <td>100.2</td>\n",
       "      <td>0</td>\n",
       "      <td>6</td>\n",
       "      <td>light_activity</td>\n",
       "      <td>1</td>\n",
       "    </tr>\n",
       "    <tr>\n",
       "      <th>4</th>\n",
       "      <td>2023-01-01 00:04:00</td>\n",
       "      <td>1.0</td>\n",
       "      <td>100.2</td>\n",
       "      <td>0</td>\n",
       "      <td>6</td>\n",
       "      <td>resting</td>\n",
       "      <td>2</td>\n",
       "    </tr>\n",
       "  </tbody>\n",
       "</table>\n",
       "</div>"
      ],
      "text/plain": [
       "             timestamp  steps_cleaned  heart_rate_cleaned  hour  day_of_week  \\\n",
       "0  2023-01-01 00:00:00            1.0               100.2     0            6   \n",
       "1  2023-01-01 00:01:00            2.0               100.2     0            6   \n",
       "2  2023-01-01 00:02:00            1.0               100.2     0            6   \n",
       "3  2023-01-01 00:03:00            1.0               100.2     0            6   \n",
       "4  2023-01-01 00:04:00            1.0               100.2     0            6   \n",
       "\n",
       "  activity_type_cleaned  activity_label  \n",
       "0        light_activity               1  \n",
       "1        light_activity               1  \n",
       "2        light_activity               1  \n",
       "3        light_activity               1  \n",
       "4               resting               2  "
      ]
     },
     "execution_count": 28,
     "metadata": {},
     "output_type": "execute_result"
    }
   ],
   "source": [
    "# Load cleaned data\n",
    "df = pd.read_csv(\"cleaned_pet_activity_data.csv\")\n",
    "df.head()\n"
   ]
  },
  {
   "cell_type": "code",
   "execution_count": 29,
   "metadata": {},
   "outputs": [],
   "source": [
    "# Separate features and target\n",
    "x = df.drop([\"activity_type_cleaned\", \"timestamp\",\"activity_label\"], axis=1)\n",
    "y = df[\"activity_label\"]"
   ]
  },
  {
   "cell_type": "code",
   "execution_count": 30,
   "metadata": {},
   "outputs": [],
   "source": [
    "x_train,x_test,y_train,y_test = train_test_split(x,y,test_size=0.2,random_state=42)"
   ]
  },
  {
   "cell_type": "code",
   "execution_count": 40,
   "metadata": {},
   "outputs": [
    {
     "data": {
      "text/html": [
       "<div>\n",
       "<style scoped>\n",
       "    .dataframe tbody tr th:only-of-type {\n",
       "        vertical-align: middle;\n",
       "    }\n",
       "\n",
       "    .dataframe tbody tr th {\n",
       "        vertical-align: top;\n",
       "    }\n",
       "\n",
       "    .dataframe thead th {\n",
       "        text-align: right;\n",
       "    }\n",
       "</style>\n",
       "<table border=\"1\" class=\"dataframe\">\n",
       "  <thead>\n",
       "    <tr style=\"text-align: right;\">\n",
       "      <th></th>\n",
       "      <th>steps_cleaned</th>\n",
       "      <th>heart_rate_cleaned</th>\n",
       "      <th>hour</th>\n",
       "      <th>day_of_week</th>\n",
       "    </tr>\n",
       "  </thead>\n",
       "  <tbody>\n",
       "    <tr>\n",
       "      <th>6463</th>\n",
       "      <td>1.0</td>\n",
       "      <td>100.2</td>\n",
       "      <td>11</td>\n",
       "      <td>3</td>\n",
       "    </tr>\n",
       "  </tbody>\n",
       "</table>\n",
       "</div>"
      ],
      "text/plain": [
       "      steps_cleaned  heart_rate_cleaned  hour  day_of_week\n",
       "6463            1.0               100.2    11            3"
      ]
     },
     "execution_count": 40,
     "metadata": {},
     "output_type": "execute_result"
    }
   ],
   "source": [
    "x_train.sample()\n",
    "x_test.sample()"
   ]
  },
  {
   "cell_type": "code",
   "execution_count": 41,
   "metadata": {},
   "outputs": [],
   "source": [
    "from sklearn.preprocessing import StandardScaler\n",
    "scaler = StandardScaler()\n",
    "x_train_scaled = scaler.fit_transform(x_train)\n",
    "x_test_scaled = scaler.transform(x_test)"
   ]
  },
  {
   "cell_type": "code",
   "execution_count": 31,
   "metadata": {},
   "outputs": [],
   "source": [
    "from sklearn.ensemble import RandomForestClassifier\n",
    "from sklearn.metrics import classification_report"
   ]
  },
  {
   "cell_type": "code",
   "execution_count": 42,
   "metadata": {},
   "outputs": [],
   "source": [
    "# Initialize and train\n",
    "model_rf = RandomForestClassifier(n_estimators=200, max_depth=10, random_state=42)\n",
    "model_rf.fit(x_train_scaled, y_train)\n",
    "\n",
    "# Predict\n",
    "y_pred_rf = model_rf.predict(x_test_scaled)"
   ]
  },
  {
   "cell_type": "code",
   "execution_count": 43,
   "metadata": {},
   "outputs": [
    {
     "name": "stdout",
     "output_type": "stream",
     "text": [
      "              precision    recall  f1-score   support\n",
      "\n",
      "           0       0.96      0.29      0.45        78\n",
      "           1       0.71      0.88      0.79      1232\n",
      "           2       0.65      0.44      0.52       706\n",
      "\n",
      "    accuracy                           0.70      2016\n",
      "   macro avg       0.77      0.54      0.59      2016\n",
      "weighted avg       0.70      0.70      0.68      2016\n",
      "\n"
     ]
    }
   ],
   "source": [
    "print(classification_report(y_test, y_pred_rf))"
   ]
  },
  {
   "cell_type": "code",
   "execution_count": 44,
   "metadata": {},
   "outputs": [
    {
     "name": "stdout",
     "output_type": "stream",
     "text": [
      "Best params: {'max_depth': 5, 'min_samples_split': 2, 'n_estimators': 100}\n"
     ]
    }
   ],
   "source": [
    "#Hyperparameter tuning\n",
    "\n",
    "from sklearn.model_selection import GridSearchCV\n",
    "\n",
    "# Define parameter grid\n",
    "param_grid = {\n",
    "    \"n_estimators\": [100, 200, 300],\n",
    "    \"max_depth\": [5, 10, 15],\n",
    "    \"min_samples_split\": [2, 5]\n",
    "}\n",
    "\n",
    "# Search\n",
    "grid_rf = GridSearchCV(RandomForestClassifier(random_state=42), param_grid, cv=3)\n",
    "grid_rf.fit(x_train_scaled, y_train)\n",
    "\n",
    "# Best parameters\n",
    "print(\"Best params:\", grid_rf.best_params_)"
   ]
  },
  {
   "cell_type": "code",
   "execution_count": 45,
   "metadata": {},
   "outputs": [],
   "source": [
    "#So now I will train random forest by giving their best params\n",
    "\n",
    "params = {\n",
    "    \"n_estimators\": [100],\n",
    "    \"max_depth\": [5],\n",
    "    \"min_samples_split\": [2]\n",
    "}\n",
    "\n",
    "model_rf_params = RandomForestClassifier(n_estimators=100, max_depth=5, random_state=42 ,min_samples_split=2)\n",
    "model_rf_params.fit(x_train_scaled, y_train)\n",
    "\n",
    "# Predict\n",
    "y_pred_rf_param = model_rf.predict(x_test_scaled)"
   ]
  },
  {
   "cell_type": "code",
   "execution_count": 46,
   "metadata": {},
   "outputs": [
    {
     "name": "stdout",
     "output_type": "stream",
     "text": [
      "              precision    recall  f1-score   support\n",
      "\n",
      "           0       0.96      0.29      0.45        78\n",
      "           1       0.71      0.88      0.79      1232\n",
      "           2       0.65      0.44      0.52       706\n",
      "\n",
      "    accuracy                           0.70      2016\n",
      "   macro avg       0.77      0.54      0.59      2016\n",
      "weighted avg       0.70      0.70      0.68      2016\n",
      "\n"
     ]
    }
   ],
   "source": [
    "print(classification_report(y_test, y_pred_rf_param))"
   ]
  },
  {
   "cell_type": "code",
   "execution_count": 47,
   "metadata": {},
   "outputs": [
    {
     "name": "stdout",
     "output_type": "stream",
     "text": [
      "Random Forest Metrics:\n",
      "F1-Score: 0.6798392943585114\n",
      "Recall: 0.6994047619047619\n",
      "Precision: 0.6988207700984498\n"
     ]
    }
   ],
   "source": [
    "from sklearn.metrics import confusion_matrix, f1_score, recall_score, precision_score\n",
    "\n",
    "# Random Forest\n",
    "print(\"Random Forest Metrics:\")\n",
    "print(\"F1-Score:\", f1_score(y_test, y_pred_rf_param, average=\"weighted\"))\n",
    "print(\"Recall:\", recall_score(y_test, y_pred_rf_param, average=\"weighted\"))\n",
    "print(\"Precision:\", precision_score(y_test, y_pred_rf_param, average=\"weighted\"))\n"
   ]
  },
  {
   "cell_type": "code",
   "execution_count": 38,
   "metadata": {},
   "outputs": [],
   "source": [
    "#Saving the model\n",
    "import pickle\n",
    "with open(\"model.pkl\", \"wb\") as f:\n",
    "    pickle.dump(model_rf_params, f)"
   ]
  },
  {
   "cell_type": "code",
   "execution_count": 48,
   "metadata": {},
   "outputs": [],
   "source": [
    "with open(\"scaler.pkl\",\"wb\") as file:\n",
    "    pickle.dump(scaler,file)\n"
   ]
  },
  {
   "cell_type": "code",
   "execution_count": null,
   "metadata": {},
   "outputs": [],
   "source": []
  },
  {
   "cell_type": "code",
   "execution_count": null,
   "metadata": {},
   "outputs": [],
   "source": []
  },
  {
   "cell_type": "code",
   "execution_count": null,
   "metadata": {},
   "outputs": [],
   "source": []
  },
  {
   "cell_type": "code",
   "execution_count": null,
   "metadata": {},
   "outputs": [],
   "source": []
  },
  {
   "cell_type": "code",
   "execution_count": null,
   "metadata": {},
   "outputs": [],
   "source": []
  },
  {
   "cell_type": "code",
   "execution_count": null,
   "metadata": {},
   "outputs": [],
   "source": []
  },
  {
   "cell_type": "code",
   "execution_count": null,
   "metadata": {},
   "outputs": [],
   "source": []
  }
 ],
 "metadata": {
  "kernelspec": {
   "display_name": "newenv",
   "language": "python",
   "name": "python3"
  },
  "language_info": {
   "codemirror_mode": {
    "name": "ipython",
    "version": 3
   },
   "file_extension": ".py",
   "mimetype": "text/x-python",
   "name": "python",
   "nbconvert_exporter": "python",
   "pygments_lexer": "ipython3",
   "version": "3.12.2"
  }
 },
 "nbformat": 4,
 "nbformat_minor": 2
}
